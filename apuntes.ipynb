{
 "cells": [
  {
   "cell_type": "code",
   "execution_count": 26,
   "metadata": {
    "collapsed": true,
    "pycharm": {
     "is_executing": false
    }
   },
   "outputs": [
    {
     "name": "stdout",
     "text": [
      "{'name': 'Mylibro', 'price': 16.99}\nno existe\n{'name': 'libro2', 'price': 21.99}\nsi existe\n{'name': 'libro2', 'price': 21.99}\n[{'name': 'Mylibro', 'price': 16.99}, {'name': 'libro2', 'price': 21.99}]\n2\nMylibro\n"
     ],
     "output_type": "stream"
    }
   ],
   "source": [
    "from flask import Flask,jsonify,request\n",
    "stores=[\n",
    "    {\n",
    "        'name':'My Wonderful Store',\n",
    "        'items':[\n",
    "            {'name':'Mylibro','price':16.99},\n",
    "            {'name':'libro2','price':21.99}\n",
    "        ]\n",
    "    }\n",
    "]\n",
    "libro='libro2'\n",
    "for i in range(0,len(stores[0]['items'])):\n",
    "   print(stores[0]['items'][i])\n",
    "   if(libro==stores[0]['items'][i]['name']):\n",
    "        print(\"si existe\")\n",
    "        print(stores[0]['items'][i])\n",
    "    \n",
    "   else:\n",
    "       print(\"no existe\")\n",
    "print (stores[0]['items'])\n",
    "print(len(stores[0]['items']))\n",
    "print(stores[0]['items'][0]['name'])"
   ]
  },
  {
   "cell_type": "code",
   "execution_count": 31,
   "outputs": [
    {
     "name": "stdout",
     "text": [
      "{'name': 'My Wonderful Store', 'items': [{'name': 'Mylibro', 'price': 16.99}, {'name': 'libro2', 'price': 21.99}]}\n"
     ],
     "output_type": "stream"
    },
    {
     "traceback": [
      "\u001b[0;31m---------------------------------------------------------------------------\u001b[0m",
      "\u001b[0;31mTypeError\u001b[0m                                 Traceback (most recent call last)",
      "\u001b[0;32m<ipython-input-31-4c232bd2af77>\u001b[0m in \u001b[0;36m<module>\u001b[0;34m\u001b[0m\n\u001b[1;32m      5\u001b[0m     \u001b[0;32mif\u001b[0m \u001b[0mstore\u001b[0m\u001b[0;34m[\u001b[0m\u001b[0;34m'name'\u001b[0m\u001b[0;34m]\u001b[0m\u001b[0;34m==\u001b[0m\u001b[0mname\u001b[0m\u001b[0;34m:\u001b[0m\u001b[0;34m\u001b[0m\u001b[0m\n\u001b[1;32m      6\u001b[0m             \u001b[0mnew_item\u001b[0m\u001b[0;34m=\u001b[0m\u001b[0;34m{\u001b[0m\u001b[0;34m'name'\u001b[0m\u001b[0;34m:\u001b[0m\u001b[0mrequest_data\u001b[0m\u001b[0;34m[\u001b[0m\u001b[0;34m'name'\u001b[0m\u001b[0;34m]\u001b[0m\u001b[0;34m,\u001b[0m\u001b[0;34m'price'\u001b[0m\u001b[0;34m:\u001b[0m\u001b[0mrequest_data\u001b[0m\u001b[0;34m[\u001b[0m\u001b[0;34m'price'\u001b[0m\u001b[0;34m]\u001b[0m\u001b[0;34m}\u001b[0m\u001b[0;34m\u001b[0m\u001b[0m\n\u001b[0;32m----> 7\u001b[0;31m             \u001b[0mstores\u001b[0m\u001b[0;34m[\u001b[0m\u001b[0mname\u001b[0m\u001b[0;34m]\u001b[0m\u001b[0;34m.\u001b[0m\u001b[0mappend\u001b[0m\u001b[0;34m(\u001b[0m\u001b[0mnew_item\u001b[0m\u001b[0;34m)\u001b[0m\u001b[0;34m\u001b[0m\u001b[0m\n\u001b[0m\u001b[1;32m      8\u001b[0m             \u001b[0mprint\u001b[0m\u001b[0;34m(\u001b[0m\u001b[0mnew_item\u001b[0m\u001b[0;34m)\u001b[0m\u001b[0;34m\u001b[0m\u001b[0m\n\u001b[1;32m      9\u001b[0m     \u001b[0;32melse\u001b[0m\u001b[0;34m:\u001b[0m\u001b[0;34m\u001b[0m\u001b[0m\n",
      "\u001b[0;31mTypeError\u001b[0m: list indices must be integers or slices, not str"
     ],
     "ename": "TypeError",
     "evalue": "list indices must be integers or slices, not str",
     "output_type": "error"
    }
   ],
   "source": [
    "request_data={'name':\"libro4\",'price':23}\n",
    "name='My Wonderful Store'\n",
    "for store in stores:\n",
    "    print(store)\n",
    "    if store['name']==name:\n",
    "            new_item={'name':request_data['name'],'price':request_data['price']}\n",
    "            stores[name].append(new_item)\n",
    "            print(new_item)\n",
    "    else:\n",
    "     print(\"no existe la tienda\")\n",
    "    \n",
    "        "
   ],
   "metadata": {
    "collapsed": false,
    "pycharm": {
     "name": "#%%\n",
     "is_executing": false
    }
   }
  },
  {
   "cell_type": "code",
   "execution_count": 24,
   "outputs": [
    {
     "name": "stdout",
     "text": [
      "[{'name': 'My Wonderful Store', 'items': [{'name': 'Mylibro', 'price': 16.99}, {'name': 'libro2', 'price': 21.99}]}]\n"
     ],
     "output_type": "stream"
    }
   ],
   "source": [
    "print(stores)\n",
    "\n"
   ],
   "metadata": {
    "collapsed": false,
    "pycharm": {
     "name": "#%%\n",
     "is_executing": false
    }
   }
  }
 ],
 "metadata": {
  "language_info": {
   "codemirror_mode": {
    "name": "ipython",
    "version": 2
   },
   "file_extension": ".py",
   "mimetype": "text/x-python",
   "name": "python",
   "nbconvert_exporter": "python",
   "pygments_lexer": "ipython2",
   "version": "2.7.6"
  },
  "kernelspec": {
   "name": "python3",
   "language": "python",
   "display_name": "Python 3"
  },
  "pycharm": {
   "stem_cell": {
    "cell_type": "raw",
    "source": [],
    "metadata": {
     "collapsed": false
    }
   }
  }
 },
 "nbformat": 4,
 "nbformat_minor": 0
}