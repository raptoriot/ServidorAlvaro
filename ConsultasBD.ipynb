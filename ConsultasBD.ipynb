{
 "cells": [
  {
   "cell_type": "code",
   "execution_count": 20,
   "metadata": {
    "collapsed": true,
    "pycharm": {
     "is_executing": false
    }
   },
   "outputs": [
    {
     "name": "stdout",
     "text": [
      " SELECT id,nombre FROM usuarios WHERE email = 'alvaro.venegas@vesat.cl' AND activo = '1' LIMIT 1\n2  Alvaro Venegas\n \n"
     ],
     "output_type": "stream"
    }
   ],
   "source": [
    "import mysql.connector\n",
    "\n",
    "db = mysql.connector.connect(host=\"127.0.0.1\",user=\"root\",passwd=\"mg45TVwer\",db=\"bsa_registro_maquinas_gc\",charset = \"utf8\" )        # el nombre de la base de datos\n",
    "#analisisBDInaplast\n",
    "cur = db.cursor()\n",
    "\n",
    "#consultas\n",
    "usuario=\"alvaro.venegas@vesat.cl\"\n",
    "query_1=\" SELECT id,nombre FROM usuarios WHERE email = '\"+usuario+\"' AND activo = '1' LIMIT 1\"\n",
    "print(query_1)\n",
    "cur.execute(query_1)\n",
    "for row in cur.fetchall():\n",
    "    print (str(row[0])+\"  \"+str(row[1]))\n",
    "print (\" \")"
   ]
  },
  {
   "cell_type": "code",
   "execution_count": 23,
   "outputs": [
    {
     "name": "stdout",
     "text": [
      "uno\n"
     ],
     "output_type": "stream"
    }
   ],
   "source": [
    "\n",
    "dic={'numero':'uno','trama':{\"android_bd_id\":\"1\",\"dispositivos\":\"16\",\"usuarios\":\"2\",\"fecha\":\"2019-09-19 20:17:27\",\"uuid\":\"16-1568938647493\",\"synced\":\"0\"}}\n",
    "print(dic['numero'])"
   ],
   "metadata": {
    "collapsed": false,
    "pycharm": {
     "name": "#%%\n",
     "is_executing": false
    }
   }
  },
  {
   "cell_type": "code",
   "execution_count": 26,
   "outputs": [
    {
     "name": "stdout",
     "text": [
      "2\n"
     ],
     "output_type": "stream"
    }
   ],
   "source": [
    "print(dic['trama']['usuarios'])"
   ],
   "metadata": {
    "collapsed": false,
    "pycharm": {
     "name": "#%%\n",
     "is_executing": false
    }
   }
  },
  {
   "cell_type": "code",
   "execution_count": 3,
   "outputs": [
    {
     "name": "stdout",
     "text": [
      "['uno', 'dos']\n"
     ],
     "output_type": "stream"
    }
   ],
   "source": [
    "formulario=[]\n",
    "formulario.append(\"uno\")\n",
    "formulario.append(\"dos\")\n",
    "print(formulario)\n",
    "\n"
   ],
   "metadata": {
    "collapsed": false,
    "pycharm": {
     "name": "#%%\n",
     "is_executing": false
    }
   }
  },
  {
   "cell_type": "code",
   "execution_count": 32,
   "outputs": [
    {
     "name": "stdout",
     "text": [
      "False\n{'a': None, 'b': 200, 'c': 300}\n"
     ],
     "output_type": "stream"
    }
   ],
   "source": [
    "def checkKey(dict, key): \n",
    "      \n",
    "    if key in dict.keys(): \n",
    "        return True \n",
    "    else: \n",
    "        return False \n",
    "        \n",
    "dict = {'a': 100, 'b':200, 'c':300} \n",
    "print(checkKey(dict,'t'))\n",
    "dict['a']=None\n",
    "\n",
    "print(dict)\n"
   ],
   "metadata": {
    "collapsed": false,
    "pycharm": {
     "name": "#%%\n",
     "is_executing": false
    }
   }
  },
  {
   "cell_type": "code",
   "execution_count": 38,
   "outputs": [
    {
     "name": "stdout",
     "text": [
      "b'W3siaWQiOiIxIiwidHlwZSI6Ik51bWJlciIsInRpdGxlIjoiTml2ZWwgZGVsIEVzcGVzYWRvciIsInZhbHVlIjoiNjYifSx7ImlkIjoiMiIsInR5cGUiOiJOdW1iZXIiLCJ0aXRsZSI6IlBvdGVuY2lvbWV0cm8iLCJ2YWx1ZSI6IjIyIn0seyJpZCI6IjMiLCJ0eXBlIjoiTnVtYmVyIiwidGl0bGUiOiJNYW5vbWV0cm8iLCJ2YWx1ZSI6IjI1In0seyJpZCI6IjQiLCJ0eXBlIjoiVGV4dEFyZWEiLCJ0aXRsZSI6IkNvbWVudGFyaW9zIiwidmFsdWUiOiJvayJ9XQ=='\n[{\"id\":\"1\",\"type\":\"Number\",\"title\":\"Nivel del Espesador\",\"value\":\"66\"},{\"id\":\"2\",\"type\":\"Number\",\"title\":\"Potenciometro\",\"value\":\"22\"},{\"id\":\"3\",\"type\":\"Number\",\"title\":\"Manometro\",\"value\":\"25\"},{\"id\":\"4\",\"type\":\"TextArea\",\"title\":\"Comentarios\",\"value\":\"ok\"}]\n"
     ],
     "output_type": "stream"
    }
   ],
   "source": [
    "import base64\n",
    "\n",
    "\n",
    "original='[{\"id\":\"1\",\"type\":\"Number\",\"title\":\"Nivel del Espesador\",\"value\":\"66\"},{\"id\":\"2\",\"type\":\"Number\",\"title\":\"Potenciometro\",\"value\":\"22\"},{\"id\":\"3\",\"type\":\"Number\",\"title\":\"Manometro\",\"value\":\"25\"},{\"id\":\"4\",\"type\":\"TextArea\",\"title\":\"Comentarios\",\"value\":\"ok\"}]'\n",
    "encodedBytes = base64.b64encode(original.encode(\"utf-8\"))\n",
    "print(encodedBytes)\n",
    "\n",
    "a = 'W3siaWQiOiIxIiwidHlwZSI6Ik51bWJlciIsInRpdGxlIjoiTml2ZWwgZGVsIEVzcGVzYWRvciIsInZhbHVlIjoiNjYifSx7ImlkIjoiMiIsInR5cGUiOiJOdW1iZXIiLCJ0aXRsZSI6IlBvdGVuY2lvbWV0cm8iLCJ2YWx1ZSI6IjIyIn0seyJpZCI6IjMiLCJ0eXBlIjoiTnVtYmVyIiwidGl0bGUiOiJNYW5vbWV0cm8iLCJ2YWx1ZSI6IjI1In0seyJpZCI6IjQiLCJ0eXBlIjoiVGV4dEFyZWEiLCJ0aXRsZSI6IkNvbWVudGFyaW9zIiwidmFsdWUiOiJvayJ9XQ'\n",
    "\n",
    "agr=len(a)-(len(a)//4)*4\n",
    "print(base64.b64decode(a+agr*\"=\").decode('utf-8'))"
   ],
   "metadata": {
    "collapsed": false,
    "pycharm": {
     "name": "#%%\n",
     "is_executing": false
    }
   }
  },
  {
   "cell_type": "code",
   "execution_count": 36,
   "outputs": [
    {
     "name": "stdout",
     "text": [
      "85\n"
     ],
     "output_type": "stream"
    }
   ],
   "source": [
    "numero=342\n",
    "print(numero//4)\n"
   ],
   "metadata": {
    "collapsed": false,
    "pycharm": {
     "name": "#%%\n",
     "is_executing": false
    }
   }
  }
 ],
 "metadata": {
  "language_info": {
   "codemirror_mode": {
    "name": "ipython",
    "version": 2
   },
   "file_extension": ".py",
   "mimetype": "text/x-python",
   "name": "python",
   "nbconvert_exporter": "python",
   "pygments_lexer": "ipython2",
   "version": "2.7.6"
  },
  "kernelspec": {
   "name": "python3",
   "language": "python",
   "display_name": "Python 3"
  },
  "pycharm": {
   "stem_cell": {
    "cell_type": "raw",
    "source": [],
    "metadata": {
     "collapsed": false
    }
   }
  }
 },
 "nbformat": 4,
 "nbformat_minor": 0
}